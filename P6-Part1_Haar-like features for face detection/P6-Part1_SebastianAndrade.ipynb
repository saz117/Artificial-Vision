{
 "cells": [
  {
   "cell_type": "markdown",
   "metadata": {},
   "source": [
    "==============================================================================================\n",
    "# Practicum 6 - Part 1\n",
    "\n",
    "=============================================================================================="
   ]
  },
  {
   "cell_type": "markdown",
   "metadata": {},
   "source": [
    "## Delivery\n",
    "\n",
    "Up to **1 point out of 10** will be penalized if the following requirements are not fulfilled:\n",
    "\n",
    "- Implemented code should be commented.\n",
    "\n",
    "- The questions introduced in the exercises must be answered.\n",
    "\n",
    "- Add title to the figures to explain what is displayed.\n",
    "\n",
    "- Comments need to be in **english**.\n",
    "\n",
    "- The deliverable must be a file named **P6_Student1_Student2.zip** that includes:\n",
    "    - The notebook P6_Student1_Student2.ipynb completed with the solutions to the exercises and their corresponding comments.\n",
    "    - All the images used in this notebook.\n",
    "\n",
    "**Deadline (Group A- Group F): December 10th, 23:00 h**\n",
    "\n",
    "**Deadline (Group B): December 11th, 23:00 h**"
   ]
  },
  {
   "cell_type": "markdown",
   "metadata": {},
   "source": [
    "==============================================================================================\n",
    "## Haar-like features applied for face detection\n",
    "==============================================================================================\n",
    "\n",
    "Today's exercices will practise the following:\n",
    "\n",
    "- Integral images and a classical use for fast harr-like feature computation.\n",
    "- Use of Adaboost for classification.\n",
    "- Decisions based on a user-defined threshold for balancing precision and recall."
   ]
  },
  {
   "cell_type": "markdown",
   "metadata": {},
   "source": [
    "## Imports"
   ]
  },
  {
   "cell_type": "code",
   "execution_count": 1,
   "metadata": {},
   "outputs": [],
   "source": [
    "import numpy as np\n",
    "import matplotlib.pyplot as plt\n",
    "import os\n",
    "from skimage.color import rgb2gray\n",
    "from skimage import io\n",
    "from time import time\n",
    "\n",
    "import skimage\n",
    "from skimage.feature import haar_like_feature\n",
    "from skimage.transform import resize\n",
    "from skimage.feature import haar_like_feature_coord\n",
    "from skimage.feature import draw_haar_like_feature\n",
    "from sklearn.model_selection import train_test_split\n",
    "\n",
    "from skimage.transform import integral_image\n",
    "from skimage.feature import haar_like_feature_coord, haar_like_feature, draw_haar_like_feature\n",
    "from sklearn.ensemble import AdaBoostClassifier\n",
    "from sklearn.datasets import make_classification\n",
    "from skimage.data import lfw_subset\n",
    "from skimage.transform import rescale, resize"
   ]
  },
  {
   "cell_type": "markdown",
   "metadata": {},
   "source": [
    "## Haar-like feature descriptor for face detection"
   ]
  },
  {
   "cell_type": "markdown",
   "metadata": {},
   "source": [
    "### What is a Haar-like feature?"
   ]
  },
  {
   "cell_type": "markdown",
   "metadata": {},
   "source": [
    "Haar-like features are features extracted from the images to recognize objects. These features are normally used in face recognition. The key to face recognition is to detect the relevant features of humans such as eyes, lips, or nose. \n",
    "\n",
    "\n",
    "<img src=\"notebook_images/haar-like.png\" width=400, height=400>\n",
    "\n",
    "Try to guess where in the face image we expect to detect an edge, line or another facial feature and what would be the most appropriate Haar-feature for them? \n",
    "\n",
    "<img src=\"notebook_images/haar-like1.png\" width=500, height=500>\n",
    "\n",
    "\n",
    "A real application would be:\n",
    "\n",
    "<img src=\"notebook_images/face.png\" width=300, height=300>\n",
    "\n",
    "\n",
    "To describe the face, we can apply convolutions with Haar features. What alternative to the convolution with Haar-features, do you know?\n"
   ]
  },
  {
   "cell_type": "markdown",
   "metadata": {},
   "source": [
    "### Face detection\n",
    "\n",
    "Haar-like feature descriptors were successfully used to implement the first real-time face detector. In this laboratory we will see an example illustrating the extraction, selection, and classification of Haar-like features to detect faces vs. non-faces.\n",
    "\n",
    "Documentation [Haar-like feature skimage](https://scikit-image.org/docs/0.14.x/auto_examples/xx_applications/plot_haar_extraction_selection_classification.html)\n",
    "\n",
    "\n",
    "In this work we are going to see:\n",
    "\n",
    "\n",
    "1. What is a Haar-like feature?\n",
    "2. Build Integral image\n",
    "3. Extract Haar features\n",
    "4. The Adaboost Classifier\n",
    "5. Face detection with cascade classifier"
   ]
  },
  {
   "cell_type": "markdown",
   "metadata": {},
   "source": [
    "### 1. Building integral image\n",
    "\n",
    "Compute all the Haar-like features (we can define up to 16000 million masks), can be a slow process. To compute it faster, we are going to use the integral images (instead of convolutions). It is very useful because we are able to save all the sums and substrations of image rectangles to avoid computing all the features every time.\n",
    "\n",
    "When creating an Integral Image, we need to create a Summed Area Table. What does represent any point (x,y) in this table?\n",
    "\n",
    "<img src=\"notebook_images/integral_image.png\" width=250, height=2500>\n",
    "\n",
    "An example :\n",
    "\n",
    "<img src=\"notebook_images/integral_image1.png\" width=400, height=400>\n",
    "\n",
    "To easy the computation of Haar features, the integral image must have an additional row and column full of zeros (first row and first column). Why?"
   ]
  },
  {
   "cell_type": "markdown",
   "metadata": {},
   "source": [
    "**1.1** Build a function `to_integral_image` that computes the integral image of an input (2D) array.\n",
    "\n",
    "The integral image must have an additional row and column full of zeros (first row and first column).\n",
    "Make sure that the values of the integral image are correct."
   ]
  },
  {
   "cell_type": "code",
   "execution_count": 2,
   "metadata": {},
   "outputs": [],
   "source": [
    "def to_integral_image(img_arr):\n",
    "    row_sum = np.zeros(img_arr.shape)\n",
    "    integral_image_arr = np.zeros((img_arr.shape[0] + 1, img_arr.shape[1] + 1))\n",
    "\n",
    "    # <your solution>\n",
    "    for i in range(img_arr.shape[1]):\n",
    "        for j in range(img_arr.shape[0]):\n",
    "            #previous value + current value of the row\n",
    "            row_sum[i, j] = row_sum[i, j-1] + img_arr[i, j]\n",
    "            #nect value = value of the next colunm + the current row sum\n",
    "            integral_image_arr[i+1, j+1] = integral_image_arr[i, j+1] + row_sum[i, j]\n",
    "    \n",
    "    return integral_image_arr"
   ]
  },
  {
   "cell_type": "markdown",
   "metadata": {},
   "source": [
    "**1.2** Construct a binary image of dimensiones 5x5 and visualize it together with its integral image."
   ]
  },
  {
   "cell_type": "code",
   "execution_count": 3,
   "metadata": {},
   "outputs": [],
   "source": [
    "img_array = np.array([[0,1,0,1,0],[1,0,1,0,1],[0,1,0,1,0],[1,0,1,0,1],[0,1,0,1,0]])\n",
    "ii_img_array = to_integral_image(img_array)"
   ]
  },
  {
   "cell_type": "code",
   "execution_count": 4,
   "metadata": {},
   "outputs": [
    {
     "data": {
      "text/plain": [
       "(-0.5, 5.5, 5.5, -0.5)"
      ]
     },
     "execution_count": 4,
     "metadata": {},
     "output_type": "execute_result"
    },
    {
     "data": {
      "image/png": "[encoded data removed]",
      "text/plain": [
       "<Figure size 1080x1080 with 2 Axes>"
      ]
     },
     "metadata": {
      "needs_background": "light"
     },
     "output_type": "display_data"
    }
   ],
   "source": [
    "# Your solution here\n",
    "#visualize\n",
    "fig = plt.figure(figsize=(15,15))\n",
    "\n",
    "fig.add_subplot(3,3,1)\n",
    "plt.title('Binary image')\n",
    "plt.imshow(img_array, cmap='gray')\n",
    "plt.axis('off')\n",
    "\n",
    "fig.add_subplot(3,3,2)\n",
    "plt.title('Integral image')\n",
    "plt.imshow(ii_img_array, cmap='gray')\n",
    "plt.axis('off')"
   ]
  },
  {
   "cell_type": "markdown",
   "metadata": {},
   "source": [
    "**1.3** Integral image test\n",
    "\n",
    "To make sure that the values of the integral image are correct, compute the following tests:\n",
    "\n",
    " - `sum(img_array) == ii_img_array[-1,-1]`\n",
    " - `img_array[0,:].sum() == ii_img_array[1,-1]`"
   ]
  },
  {
   "cell_type": "code",
   "execution_count": 5,
   "metadata": {},
   "outputs": [
    {
     "name": "stdout",
     "output_type": "stream",
     "text": [
      "True\n",
      "True\n"
     ]
    }
   ],
   "source": [
    "# Your solution here\n",
    "print(sum(sum(img_array)) == ii_img_array[-1,-1]) #it was the sum of the sum\n",
    "print(img_array[0,:].sum() == ii_img_array[1,-1])"
   ]
  },
  {
   "cell_type": "markdown",
   "metadata": {},
   "source": [
    "**1.4** Let's check in real images.\n",
    "\n",
    "Choose an image from the directory ``./faces``, visualize both the original and the integral image, and make the same test that in the previous question."
   ]
  },
  {
   "cell_type": "code",
   "execution_count": 6,
   "metadata": {},
   "outputs": [
    {
     "data": {
      "text/plain": [
       "(-0.5, 19.5, 19.5, -0.5)"
      ]
     },
     "execution_count": 6,
     "metadata": {},
     "output_type": "execute_result"
    },
    {
     "data": {
      "image/png": "[encoded data removed]",
      "text/plain": [
       "<Figure size 1080x1080 with 2 Axes>"
      ]
     },
     "metadata": {
      "needs_background": "light"
     },
     "output_type": "display_data"
    }
   ],
   "source": [
    "#your solution\n",
    "face_array = io.imread(\"./faces/face00001.png\")\n",
    "ii_face_array = to_integral_image(face_array)\n",
    "\n",
    "#visualize\n",
    "fig = plt.figure(figsize=(15,15))\n",
    "\n",
    "fig.add_subplot(3,3,1)\n",
    "plt.title('Face image')\n",
    "plt.imshow(face_array, cmap='gray')\n",
    "plt.axis('off')\n",
    "\n",
    "fig.add_subplot(3,3,2)\n",
    "plt.title('Integral image')\n",
    "plt.imshow(ii_face_array, cmap='gray')\n",
    "plt.axis('off')"
   ]
  },
  {
   "cell_type": "code",
   "execution_count": 7,
   "metadata": {},
   "outputs": [
    {
     "name": "stdout",
     "output_type": "stream",
     "text": [
      "False\n",
      "True\n",
      "True\n"
     ]
    }
   ],
   "source": [
    "print(sum(sum(face_array)) == ii_face_array[-1,-1]) #why?\n",
    "print(face_array[0,:].sum() == ii_face_array[1,-1])\n",
    "print(ii_face_array[0,-1].sum() == 0)"
   ]
  },
  {
   "cell_type": "markdown",
   "metadata": {},
   "source": [
    "**1.5** What do the following lines mean? How can you explain this?\n",
    "\n",
    " - `sum(img_array) == ii_img_array[-1,-1]`\n",
    " - `img_array[0,:].sum() == ii_img_array[1,-1]`\n",
    " - `ii_img_array[0,-1].sum() == 0`\n",
    " \n"
   ]
  },
  {
   "cell_type": "code",
   "execution_count": 8,
   "metadata": {},
   "outputs": [
    {
     "data": {
      "text/plain": [
       "'\\nThe sum of the array will give you the sum of all elements in the array, which compared to the last element of an array it \\nshould have the same result because it contains the sum of all of that column and all of that row.\\n\\nThe sum at the entire row should have the same value as the las value of the next row\\n\\nThe las value of the first row should be equal to 0, although i dont understand why use .sum() if ii_img_array[0,-1] already \\nreturns a value and .sum() of that same expression would be the same value. In fact, ii_img_array[0,-1].sum() == 0 is a \\ncontradiction to img_array[0,:].sum(), since they should be the same thing.\\n'"
      ]
     },
     "execution_count": 8,
     "metadata": {},
     "output_type": "execute_result"
    }
   ],
   "source": [
    "# Your solution here\n",
    "\"\"\"\n",
    "The sum of the array will give you the sum of all elements in the array, which compared to the last element of an array it \n",
    "should have the same result because it contains the sum of all of that column and all of that row.\n",
    "\n",
    "The sum at the entire row should have the same value as the las value of the next row\n",
    "\n",
    "The las value of the first row should be equal to 0, although i dont understand why use .sum() if ii_img_array[0,-1] already \n",
    "returns a value and .sum() of that same expression would be the same value. In fact, ii_img_array[0,-1].sum() == 0 is a \n",
    "contradiction to img_array[0,:].sum(), since they should be the same thing.\n",
    "\"\"\""
   ]
  },
  {
   "cell_type": "markdown",
   "metadata": {},
   "source": [
    "**1.6: (Optional)** Alternatively to your own function, you can use the function of skimage ``skimage.transform import integral_image``. \n",
    "\n",
    "Compare the result obtained using your funtion and that obtained using the function provided by skimage."
   ]
  },
  {
   "cell_type": "code",
   "execution_count": 9,
   "metadata": {},
   "outputs": [
    {
     "data": {
      "text/plain": [
       "(-0.5, 18.5, 18.5, -0.5)"
      ]
     },
     "execution_count": 9,
     "metadata": {},
     "output_type": "execute_result"
    },
    {
     "data": {
      "image/png": "[encoded data removed]",
      "text/plain": [
       "<Figure size 1080x1080 with 2 Axes>"
      ]
     },
     "metadata": {
      "needs_background": "light"
     },
     "output_type": "display_data"
    }
   ],
   "source": [
    "# Your solution here\n",
    "from skimage.transform import integral_image\n",
    "\n",
    "face_array2 = io.imread(\"./faces/face00001.png\")\n",
    "ii_face_array2 = integral_image(face_array2)\n",
    "\n",
    "#visualize\n",
    "fig = plt.figure(figsize=(15,15))\n",
    "\n",
    "fig.add_subplot(3,3,1)\n",
    "plt.title('Face image')\n",
    "plt.imshow(face_array2, cmap='gray')\n",
    "plt.axis('off')\n",
    "\n",
    "fig.add_subplot(3,3,2)\n",
    "plt.title('Integral image')\n",
    "plt.imshow(ii_face_array2, cmap='gray')\n",
    "plt.axis('off')"
   ]
  },
  {
   "cell_type": "code",
   "execution_count": 10,
   "metadata": {},
   "outputs": [
    {
     "name": "stdout",
     "output_type": "stream",
     "text": [
      "False\n",
      "False\n",
      "False\n"
     ]
    }
   ],
   "source": [
    "#using the skimage function for integral image we get the same result visualy, yet we get false for everything\n",
    "print(sum(sum(face_array2)) == ii_face_array2[-1,-1])\n",
    "print(face_array2[0,:].sum() == ii_face_array2[1,-1])\n",
    "print(ii_face_array2[0,-1].sum() == 0)"
   ]
  },
  {
   "cell_type": "markdown",
   "metadata": {},
   "source": [
    "## 2. Haar-like features\n",
    "\n",
    "Let's use the haar_like_feature function from skimage [Haar like feature](https://scikit-image.org/docs/0.14.x/api/skimage.feature.html#skimage.feature.haar_like_feature)\n",
    "\n",
    "*skimage.feature.haar_like_feature(int_image, rint, cint, widthint, heightint, feature_type=None, feature_coord=None)*\n",
    "\n",
    "Check the parameters and the returned value of the ``function haar_like_feature()`` before continuing."
   ]
  },
  {
   "cell_type": "markdown",
   "metadata": {},
   "source": [
    "###  Extract features\n",
    "\n",
    "**2.1** Once we have the function to get the integral image, we can extract the features before building the classifier.\n",
    "\n",
    "Define a function ``extract_feature_image`` to obtain the Haar-like features, using a given type of features ``feature_types``, from an image.\n"
   ]
  },
  {
   "cell_type": "code",
   "execution_count": 6,
   "metadata": {},
   "outputs": [],
   "source": [
    "feature_types = ['type-2-x', 'type-2-y',\n",
    "                 'type-3-x', 'type-3-y',\n",
    "                 'type-4']"
   ]
  },
  {
   "cell_type": "code",
   "execution_count": 12,
   "metadata": {},
   "outputs": [],
   "source": [
    "from skimage.feature import haar_like_feature_coord, haar_like_feature, draw_haar_like_feature"
   ]
  },
  {
   "cell_type": "code",
   "execution_count": 4,
   "metadata": {},
   "outputs": [],
   "source": [
    "def extract_feature_image(image, feature_type, feature_coord=None):\n",
    "    features = []\n",
    "    \n",
    "    # Your solution here\n",
    "    int_image = integral_image(image) #we calculate the integral image using skimage's function\n",
    "    height = int_image.shape[1]\n",
    "    width = int_image.shape[0]\n",
    "    \"\"\"\n",
    "    for i in feature_type:\n",
    "        #feat_coord, feat_type = haar_like_feature_coord(width, height, feature_type = i) \n",
    "        #print(coords[0].shape[0]) #we use coords[0] becuase it contains the usefull information, and we can do .shape\n",
    "        #print(feat_coord.shape[0]) is the same as using the above\n",
    "        features.append(haar_like_feature(int_image, 0, 0,width, height, feature_type=i, feature_coord=None))#try using the coords\n",
    "        \n",
    "    \"\"\"\n",
    "    features = haar_like_feature(int_image, 0, 0,width, height, feature_type=feature_type, feature_coord=None)\n",
    "    return features"
   ]
  },
  {
   "cell_type": "markdown",
   "metadata": {},
   "source": [
    "Try your function using the choosing image from *1.4*. \n",
    "\n",
    "**Note:** You have to obtain a feature vector. Print the vector shape."
   ]
  },
  {
   "cell_type": "code",
   "execution_count": 14,
   "metadata": {},
   "outputs": [],
   "source": [
    "face = io.imread(\"./faces/face00001.png\")\n",
    "features = extract_feature_image(face, feature_types, )"
   ]
  },
  {
   "cell_type": "markdown",
   "metadata": {},
   "source": [
    "**2.2** Plot a Haar-like feature on an image:\n",
    "\n",
    "To visualize Haar-like features on an image, we need the fuctions, provided by skimage, ``haar_like_feature_coord()``, which computes the coordinates of Haar-like features, and ``draw_haar_like_feature()``, used to visualize that features.\n",
    "\n",
    "Before continuing, please, **check the online documentation of the two functions**\n",
    "\n",
    "- *skimage.feature.haar_like_feature_coord(width, height, feature_type=None)*\n",
    "\n",
    "- *skimage.feature.draw_haar_like_feature(image, r, c, width, height, feature_coord, color_positive_block=(1.0, 0.0, 0.0), color_negative_block=(0.0, 1.0, 0.0), alpha=0.5, max_n_features=None, random_state=None)*\n"
   ]
  },
  {
   "cell_type": "markdown",
   "metadata": {},
   "source": [
    "Define a function ``plotFeatures``  to visualize Haar-like features on an images, given a array of feature types ``feature_types``."
   ]
  },
  {
   "cell_type": "code",
   "execution_count": 15,
   "metadata": {},
   "outputs": [],
   "source": [
    "# Your solution here\n",
    "def plotFeatures(image, feature_types):\n",
    "    \"\"\"\n",
    "    function to visualize imges with title, if passed. \n",
    "    \"\"\"\n",
    "    %matplotlib inline\n",
    "    \n",
    "    height = image.shape[1]\n",
    "    width = image.shape[0]\n",
    "    draw = []\n",
    "\n",
    "    for i in feature_types:\n",
    "        feat_coord, feat_type = haar_like_feature_coord(width, height, feature_type = i)\n",
    "        draw.append(draw_haar_like_feature(image,0, 0, width, height, feat_coord, max_n_features=1))\n",
    "    \n",
    "    #visualize\n",
    "    #create the figure\n",
    "    fig, ax = plt.subplots(1, len(feature_types), figsize=(15,15))\n",
    "    \n",
    "    for i in range(len(draw)):        \n",
    "        \n",
    "        ax[i].imshow(draw[i], cmap='gray')              \n",
    "        ax[i].set_title(feature_types[i]) #we add the title  \n",
    "        ax[i].axis('off')\n",
    "    \n",
    "    # We show the result\n",
    "    plt.show()"
   ]
  },
  {
   "cell_type": "markdown",
   "metadata": {},
   "source": [
    "Try your function using the choosing image from *1.4* as follows:\n",
    "<img src=\"notebook_images/image1.png\" width=600, height=300>"
   ]
  },
  {
   "cell_type": "code",
   "execution_count": 16,
   "metadata": {},
   "outputs": [
    {
     "data": {
      "image/png": "[encoded data removed]",
      "text/plain": [
       "<Figure size 1080x1080 with 5 Axes>"
      ]
     },
     "metadata": {
      "needs_background": "light"
     },
     "output_type": "display_data"
    }
   ],
   "source": [
    "plotFeatures(face, feature_types)"
   ]
  },
  {
   "cell_type": "markdown",
   "metadata": {},
   "source": [
    "### 3 Preparing the Dataset\n",
    "\n",
    "**3.1** Read all the images from the directories ``./faces`` and ``./nonfaces`` and build an array with the all the features. \n",
    "\n",
    "Futhermore, build the class labels vector ``y`` with the label of all the images"
   ]
  },
  {
   "cell_type": "code",
   "execution_count": 17,
   "metadata": {},
   "outputs": [],
   "source": [
    "# Build a vector with the faces features\n",
    "path = \"./faces/\"                       \n",
    "face_images = [skimage.io.imread(path + f) for f in os.listdir(path)]\n",
    "\n",
    "features_faces = []\n",
    "\n",
    "# your solution here\n",
    "for i in face_images:\n",
    "    features_faces.append(extract_feature_image(i, feature_types))\n"
   ]
  },
  {
   "cell_type": "code",
   "execution_count": 8,
   "metadata": {},
   "outputs": [],
   "source": [
    "# Build a vector with the non-faces features\n",
    "path = \"./nonfaces/\"                       \n",
    "non_face_images = [skimage.io.imread(path + f) for f in os.listdir(path)]\n",
    "\n",
    "non_features_faces = []\n",
    "\n",
    "# your solution here\n",
    "for i in non_face_images:\n",
    "    non_features_faces.append(extract_feature_image(i, feature_types))\n"
   ]
  },
  {
   "cell_type": "code",
   "execution_count": 19,
   "metadata": {},
   "outputs": [],
   "source": [
    "X = np.array(features_faces + non_features_faces)\n",
    "\n",
    "y = np.array([1]*len(features_faces) + [0]*len(non_features_faces)) # Labels face = 1, non face = 0"
   ]
  },
  {
   "cell_type": "markdown",
   "metadata": {},
   "source": [
    "**3.2** Using the function ``train_test_split`` from sklearn, divide the dataset into *train* and *test* set"
   ]
  },
  {
   "cell_type": "code",
   "execution_count": 20,
   "metadata": {},
   "outputs": [],
   "source": [
    "# Your solution here\n",
    "from sklearn.model_selection import train_test_split\n",
    "#using the tutorial on sklearn\n",
    "X_train, X_test, y_train, y_test = train_test_split(X, y)"
   ]
  },
  {
   "cell_type": "markdown",
   "metadata": {},
   "source": [
    "### 4  Adaboost training\n",
    "\n",
    "**4.1** Train an Adaboost classifier using:\n",
    "\n",
    "*class sklearn.ensemble.AdaBoostClassifier(n_estimators=50, learning_rate=1.0)*\n",
    "\n",
    "What is an Adaboost doing?"
   ]
  },
  {
   "cell_type": "code",
   "execution_count": null,
   "metadata": {},
   "outputs": [],
   "source": [
    "#it is fitting a classifier on the original dataset and then fitting additional copies of the classifier on the same dataset"
   ]
  },
  {
   "cell_type": "code",
   "execution_count": 21,
   "metadata": {},
   "outputs": [],
   "source": [
    "from sklearn.ensemble import AdaBoostClassifier\n",
    "from sklearn.datasets import make_classification\n",
    "\n",
    "# Your solution here\n",
    "clf = AdaBoostClassifier(n_estimators=50, learning_rate=1.0)"
   ]
  },
  {
   "cell_type": "markdown",
   "metadata": {},
   "source": [
    "**4.2** Evaluate the accuracy of the Adaboost classifier using the *predict* and *score* methods of the classifier. What are these methods doing?"
   ]
  },
  {
   "cell_type": "code",
   "execution_count": 22,
   "metadata": {},
   "outputs": [
    {
     "data": {
      "text/plain": [
       "0.8823529411764706"
      ]
     },
     "execution_count": 22,
     "metadata": {},
     "output_type": "execute_result"
    }
   ],
   "source": [
    "# Your solution here\n",
    "clf.fit(X_train, y_train)\n",
    "clf.predict(X_test)\n",
    "clf.score(X_test, y_test)"
   ]
  },
  {
   "cell_type": "markdown",
   "metadata": {},
   "source": [
    "Change the parameter ``n_estimators`` and see what happens. Does it improve?"
   ]
  },
  {
   "cell_type": "code",
   "execution_count": 23,
   "metadata": {},
   "outputs": [
    {
     "data": {
      "text/plain": [
       "0.9411764705882353"
      ]
     },
     "execution_count": 23,
     "metadata": {},
     "output_type": "execute_result"
    }
   ],
   "source": [
    "# Your solution here\n",
    "clf2 = AdaBoostClassifier(n_estimators=10, learning_rate=1.0)\n",
    "clf2.fit(X_train, y_train)\n",
    "clf2.predict(X_test)\n",
    "clf2.score(X_test, y_test)"
   ]
  },
  {
   "cell_type": "code",
   "execution_count": 24,
   "metadata": {},
   "outputs": [
    {
     "data": {
      "text/plain": [
       "0.8823529411764706"
      ]
     },
     "execution_count": 24,
     "metadata": {},
     "output_type": "execute_result"
    }
   ],
   "source": [
    "clf3 = AdaBoostClassifier(n_estimators=70, learning_rate=1.0)\n",
    "clf3.fit(X_train, y_train)\n",
    "clf3.predict(X_test)\n",
    "clf3.score(X_test, y_test)"
   ]
  },
  {
   "cell_type": "code",
   "execution_count": 25,
   "metadata": {},
   "outputs": [
    {
     "data": {
      "text/plain": [
       "\"\\nit doesn't seem to be any improvement by reducing or increasing the n_estimators values\\n\""
      ]
     },
     "execution_count": 25,
     "metadata": {},
     "output_type": "execute_result"
    }
   ],
   "source": [
    "\"\"\"\n",
    "it doesn't seem to be any improvement by reducing or increasing the n_estimators values, altghouth results may very \n",
    "on each execution\n",
    "\"\"\""
   ]
  },
  {
   "cell_type": "markdown",
   "metadata": {},
   "source": [
    "**4.3** The method ``feature_importances_`` of the Adaboost is giving the importance of the features. Implement a function to visualize the 10 most important features on an image of a face on your choice. "
   ]
  },
  {
   "cell_type": "code",
   "execution_count": 26,
   "metadata": {},
   "outputs": [],
   "source": [
    "# Your solution here\n",
    "#using scikit-image's tutorial code\n",
    "#we sort it by importane\n",
    "def get_top_10(im, clf, feature_types):\n",
    "    \n",
    "    idx_sorted = np.argsort(clf.feature_importances_)[::-1] #(I'm using the original clf)\n",
    "\n",
    "    feat_coord, feat_type = haar_like_feature_coord(im.shape[0], im.shape[1],\n",
    "                                                    feature_type = feature_types)#we get the coord just like before\n",
    "\n",
    "    fig, axes = plt.subplots(2, 5)\n",
    "    for idx, ax in enumerate(axes.ravel()):\n",
    "\n",
    "        face = draw_haar_like_feature(im, 0, 0,\n",
    "                                       im.shape[0],\n",
    "                                       im.shape[1],\n",
    "                                       [feat_coord[idx_sorted[idx]]])\n",
    "        ax.imshow(face)\n",
    "        ax.set_xticks([])\n",
    "        ax.set_yticks([])\n",
    "\n",
    "    _ = fig.suptitle('The 10 most important features')"
   ]
  },
  {
   "cell_type": "code",
   "execution_count": 27,
   "metadata": {},
   "outputs": [
    {
     "data": {
      "image/png": "[encoded data removed]",
      "text/plain": [
       "<Figure size 432x288 with 10 Axes>"
      ]
     },
     "metadata": {},
     "output_type": "display_data"
    }
   ],
   "source": [
    "get_top_10(face, clf, feature_types)"
   ]
  },
  {
   "cell_type": "markdown",
   "metadata": {},
   "source": [
    "**4.4**  Try the Adabost classifier using other faces and non-faces images. What is the result? "
   ]
  },
  {
   "cell_type": "code",
   "execution_count": 28,
   "metadata": {},
   "outputs": [
    {
     "data": {
      "text/plain": [
       "'\\nfrom skimage.color import rgb2gray\\n# Build a vector with the faces features, just like before\\npath = \"./another_faces/\"                       \\nanother_faces_images = [rgb2gray(skimage.io.imread(path + f)) for f in os.listdir(path)] #we do grayscale so it matches the shape\\n\\nfeatures_another_faces = []\\n\\nfor i in another_faces_images:\\n    features_another_faces.append(extract_feature_image(i, feature_types))\\n    \\n#get the X and y\\nX2 = np.array(features_another_faces + non_features_faces) #now we use features_another_faces\\ny2 = np.array([1]*len(features_another_faces) + [0]*len(non_features_faces)) # Labels face = 1, non face = 0\\n\\n#using the tutorial on sklearn we can get the train and test\\nX_train2, X_test2, y_train2, y_test2 = train_test_split(X2, y2)\\n\\nclf2 = AdaBoostClassifier(n_estimators=50, learning_rate=1.0)\\n# Your solution here\\nclf2.fit(X_train2, y_train2)\\nclf2.predict(X_test2)\\nscore = clf2.score(X_test2, y_test2)\\n\\nprint(\"score: \"+ str(score))\\n\\nget_top_10(face, clf2, feature_types)#we test is again\\n'"
      ]
     },
     "execution_count": 28,
     "metadata": {},
     "output_type": "execute_result"
    }
   ],
   "source": [
    "# Your solution here\n",
    "#i thought it meant to train another classifier, but i was wrong. This will colapse your pc.\n",
    "\"\"\"\n",
    "from skimage.color import rgb2gray\n",
    "# Build a vector with the faces features, just like before\n",
    "path = \"./another_faces/\"                       \n",
    "another_faces_images = [rgb2gray(skimage.io.imread(path + f)) for f in os.listdir(path)] #we do grayscale so it matches the shape\n",
    "\n",
    "features_another_faces = []\n",
    "\n",
    "for i in another_faces_images:\n",
    "    features_another_faces.append(extract_feature_image(i, feature_types))\n",
    "    \n",
    "#get the X and y\n",
    "X2 = np.array(features_another_faces + non_features_faces) #now we use features_another_faces\n",
    "y2 = np.array([1]*len(features_another_faces) + [0]*len(non_features_faces)) # Labels face = 1, non face = 0\n",
    "\n",
    "#using the tutorial on sklearn we can get the train and test\n",
    "X_train2, X_test2, y_train2, y_test2 = train_test_split(X2, y2)\n",
    "\n",
    "clf2 = AdaBoostClassifier(n_estimators=50, learning_rate=1.0)\n",
    "# Your solution here\n",
    "clf2.fit(X_train2, y_train2)\n",
    "clf2.predict(X_test2)\n",
    "score = clf2.score(X_test2, y_test2)\n",
    "\n",
    "print(\"score: \"+ str(score))\n",
    "\n",
    "get_top_10(face, clf2, feature_types)#we test is again\n",
    "\"\"\""
   ]
  },
  {
   "cell_type": "code",
   "execution_count": 29,
   "metadata": {},
   "outputs": [
    {
     "name": "stdout",
     "output_type": "stream",
     "text": [
      "[1]\n",
      "[0]\n"
     ]
    }
   ],
   "source": [
    "#I can assume that the question 4.4 wants me to try the clf.predict using the features of a different image\n",
    "print(clf.predict([extract_feature_image(face_images[24], feature_types)]))\n",
    "print(clf.predict([extract_feature_image(non_face_images[18], feature_types)]))\n",
    "#so we would get 1 for a face, and 0 for a non_face, as it should"
   ]
  },
  {
   "cell_type": "code",
   "execution_count": 30,
   "metadata": {},
   "outputs": [],
   "source": [
    "from skimage.data import lfw_subset\n",
    "from skimage.transform import rescale, resize"
   ]
  },
  {
   "cell_type": "code",
   "execution_count": 31,
   "metadata": {},
   "outputs": [
    {
     "data": {
      "text/plain": [
       "1.0"
      ]
     },
     "execution_count": 31,
     "metadata": {},
     "output_type": "execute_result"
    }
   ],
   "source": [
    "#or it means trying the adaboost classifier with a different set of images, which will imply changing the classifier\n",
    "images = lfw_subset()\n",
    "features_images = []\n",
    "\n",
    "#we get the features for the images\n",
    "for i in images:\n",
    "    im= resize(i, (i.shape[0] - 6 , i.shape[1] - 6)) #we re size the image so that its the same as non_faces\n",
    "    features_images.append(extract_feature_image(im, feature_types))\n",
    "\n",
    "#we get the new values for X and Y using the new images, non_images we already got them.\n",
    "X_images = np.array(features_images + non_features_faces)\n",
    "y_images = np.array([1]*len(features_images) + [0]*len(non_features_faces)) # Labels face = 1, non face = 0\n",
    "\n",
    "#using the tutorial on sklearn we can get the new train and test values\n",
    "X_train_images, X_test_images, y_train_images, y_test_images = train_test_split(X_images, y_images)\n",
    "\n",
    "clf_images = AdaBoostClassifier(n_estimators=50, learning_rate=1.0)\n",
    "clf_images.fit(X_train_images, y_train_images)\n",
    "clf_images.predict(X_test_images)\n",
    "clf_images.score(X_test_images, y_test_images)"
   ]
  },
  {
   "cell_type": "code",
   "execution_count": 32,
   "metadata": {},
   "outputs": [
    {
     "name": "stdout",
     "output_type": "stream",
     "text": [
      "[1 1 1 1 1 0 1 1 0 1 1 1 0 1 1 1 0 1 1 1 1 1 0 1 1 1 1 1 1 1 1 1 1 1 1 1 1\n",
      " 1 1 0 1 1 1 1 1 1 1 1 1 1 1 1 1 1 1 0 1 1]\n",
      "[1 1 1 1 1 0 1 1 0 1 1 1 0 1 1 1 0 1 1 1 1 1 0 1 1 1 1 1 1 1 1 1 1 1 1 1 1\n",
      " 1 1 0 1 1 1 1 1 1 1 1 1 1 1 1 1 1 1 0 1 1]\n"
     ]
    }
   ],
   "source": [
    "print(clf_images.predict(X_test_images)) #we can see the prediction gives the same as the test, which is great\n",
    "print(y_test_images)"
   ]
  },
  {
   "cell_type": "code",
   "execution_count": 33,
   "metadata": {},
   "outputs": [
    {
     "data": {
      "image/png": "[encoded data removed]",
      "text/plain": [
       "<Figure size 432x288 with 10 Axes>"
      ]
     },
     "metadata": {},
     "output_type": "display_data"
    }
   ],
   "source": [
    "get_top_10(face, clf_images, feature_types)"
   ]
  },
  {
   "cell_type": "markdown",
   "metadata": {},
   "source": [
    "**4.5 (Optional)** Implement the Adaboost training the model with just 1 type of feature. And 2 types? And 3 types? Plot the results comparing the precision. Draw conclusions about the results"
   ]
  },
  {
   "cell_type": "code",
   "execution_count": 34,
   "metadata": {},
   "outputs": [],
   "source": [
    "# Your solution here\n",
    "feature_types1 = ['type-2-x']\n",
    "feature_types2 = ['type-2-x', 'type-2-y']\n",
    "feature_types3 = ['type-2-x', 'type-2-y','type-3-x']\n",
    "\n",
    "\"\"\"\n",
    "Lets use faces and non faces for all three cases\n",
    "\"\"\"\n",
    "path = \"./faces/\"                       \n",
    "face_images = [skimage.io.imread(path + f) for f in os.listdir(path)]\n",
    "#we do it for the three of them already, so we can get the Xs and Ys later\n",
    "features_faces1 = []\n",
    "features_faces2 = []\n",
    "features_faces3 = []\n",
    "\n",
    "for i in face_images:\n",
    "    features_faces1.append(extract_feature_image(i, feature_types1))\n",
    "    features_faces2.append(extract_feature_image(i, feature_types2))\n",
    "    features_faces3.append(extract_feature_image(i, feature_types3))\n",
    "  \n",
    "    \n",
    "path = \"./nonfaces/\"          \n",
    "non_face_images = [skimage.io.imread(path + f) for f in os.listdir(path)]\n",
    "non_features_faces1 = []\n",
    "non_features_faces2 = []\n",
    "non_features_faces3 = []\n",
    "\n",
    "for i in non_face_images:\n",
    "    non_features_faces1.append(extract_feature_image(i, feature_types1))\n",
    "    non_features_faces2.append(extract_feature_image(i, feature_types2))\n",
    "    non_features_faces3.append(extract_feature_image(i, feature_types3))\n",
    "\n",
    "\"\"\"\n",
    "for classifier 1\n",
    "\"\"\"\n",
    "X1 = np.array(features_faces1 + non_features_faces1)\n",
    "y1 = np.array([1]*len(features_faces1) + [0]*len(non_features_faces1)) # Labels face = 1, non face = 0\n",
    "#using the tutorial on sklearn we can get the train and test\n",
    "X_train1, X_test1, y_train1, y_test1 = train_test_split(X1, y1)\n",
    "\n",
    "clf_type1 = AdaBoostClassifier(n_estimators=50, learning_rate=1.0)\n",
    "# Your solution here\n",
    "clf_type1.fit(X_train1, y_train1)\n",
    "clf_type1.predict(X_test1)\n",
    "score1 = clf_type1.score(X_test1, y_test1)\n",
    "\n",
    "\"\"\"\n",
    "for classifier 2\n",
    "\"\"\"\n",
    "X2 = np.array(features_faces2 + non_features_faces2)\n",
    "y2 = np.array([1]*len(features_faces2) + [0]*len(non_features_faces2)) # Labels face = 1, non face = 0\n",
    "#using the tutorial on sklearn we can get the train and test\n",
    "X_train2, X_test2, y_train2, y_test2 = train_test_split(X2, y2)\n",
    "\n",
    "clf_type2 = AdaBoostClassifier(n_estimators=50, learning_rate=1.0)\n",
    "# Your solution here\n",
    "clf_type2.fit(X_train2, y_train2)\n",
    "clf_type2.predict(X_test2)\n",
    "score2 = clf_type2.score(X_test2, y_test2)\n",
    "\n",
    "\"\"\"\n",
    "for classifier 3\n",
    "\"\"\"\n",
    "X3 = np.array(features_faces3 + non_features_faces3)\n",
    "y3 = np.array([1]*len(features_faces3) + [0]*len(non_features_faces3)) # Labels face = 1, non face = 0\n",
    "#using the tutorial on sklearn we can get the train and test\n",
    "X_train3, X_test3, y_train3, y_test3 = train_test_split(X3, y3)\n",
    "\n",
    "clf_type3 = AdaBoostClassifier(n_estimators=50, learning_rate=1.0)\n",
    "# Your solution here\n",
    "clf_type3.fit(X_train3, y_train3)\n",
    "clf_type3.predict(X_test3)\n",
    "score3 = clf_type3.score(X_test3, y_test3)"
   ]
  },
  {
   "cell_type": "code",
   "execution_count": 35,
   "metadata": {},
   "outputs": [
    {
     "data": {
      "text/plain": [
       "[<matplotlib.lines.Line2D at 0x1e6cb8f3e80>]"
      ]
     },
     "execution_count": 35,
     "metadata": {},
     "output_type": "execute_result"
    },
    {
     "data": {
      "image/png": "[encoded data removed]",
      "text/plain": [
       "<Figure size 432x288 with 1 Axes>"
      ]
     },
     "metadata": {
      "needs_background": "light"
     },
     "output_type": "display_data"
    }
   ],
   "source": [
    "scores = [score1, score2, score3]\n",
    "plt.plot(scores)"
   ]
  },
  {
   "cell_type": "code",
   "execution_count": 36,
   "metadata": {},
   "outputs": [
    {
     "data": {
      "image/png": "[encoded data removed]",
      "text/plain": [
       "<Figure size 432x288 with 10 Axes>"
      ]
     },
     "metadata": {},
     "output_type": "display_data"
    },
    {
     "data": {
      "image/png": "[encoded data removed]",
      "text/plain": [
       "<Figure size 432x288 with 10 Axes>"
      ]
     },
     "metadata": {},
     "output_type": "display_data"
    },
    {
     "data": {
      "image/png": "[encoded data removed]",
      "text/plain": [
       "<Figure size 432x288 with 10 Axes>"
      ]
     },
     "metadata": {},
     "output_type": "display_data"
    }
   ],
   "source": [
    "get_top_10(face, clf_type1, feature_types)\n",
    "get_top_10(face, clf_type2, feature_types)#we test is again for our second and third clf\n",
    "get_top_10(face, clf_type3, feature_types)"
   ]
  },
  {
   "cell_type": "code",
   "execution_count": 37,
   "metadata": {},
   "outputs": [
    {
     "data": {
      "text/plain": [
       "'\\nwe can see the the top 10 result are again fairly similar, yet all of them have small differences in the display.\\nHowever it is quite curious that the score for accuracy varies in a way that using one type of features gives 100%, \\nwith 2 it gives 88%, and with 3 it goes back up to 100%. I can asume the 100% score using 1 feature is a false sense\\nof security, considering we are using so little features. However, if we re-run everything again, we get different scores.\\nIn some scenarios we get a deacreasing function, where using 1 type of feature gives a 100% score, and using 3 types gives 88%.\\nIn another case we get the opposite, an increasing function, where using 1 type of feature give the worst score, and the best\\nscore is the for the one using 3 types. It appears the training of the classifier changes slightly everytime we execute it, yet\\nit has a constant change, meaning the results will give a pattern. \\n'"
      ]
     },
     "execution_count": 37,
     "metadata": {},
     "output_type": "execute_result"
    }
   ],
   "source": [
    "\"\"\"\n",
    "we can see the the top 10 result are again fairly similar, yet all of them have small differences in the display.\n",
    "However it is quite curious that the score for accuracy varies in a way that using one type of features gives 100%, \n",
    "with 2 it gives 88%, and with 3 it goes back up to 100%. I can asume the 100% score using 1 feature is a false sense\n",
    "of security, considering we are using so little features. However, if we re-run everything again, we get different scores.\n",
    "In some scenarios we get a deacreasing function, where using 1 type of feature gives a 100% score, and using 3 types gives 88%.\n",
    "In another case we get the opposite, an increasing function, where using 1 type of feature give the worst score, and the best\n",
    "score is the for the one using 3 types. It appears the training of the classifier changes slightly everytime we execute it, yet\n",
    "it has a constant change, meaning the results will give a pattern. \n",
    "\"\"\""
   ]
  },
  {
   "cell_type": "markdown",
   "metadata": {},
   "source": [
    "### 5. Cascade of classifiers"
   ]
  },
  {
   "cell_type": "markdown",
   "metadata": {},
   "source": [
    "The Cascade Adaboost is implemented in the class ``skimage.feature.Cascade``.\n",
    "\n",
    "**5.1** Compare the performance of the Cascade classifier  and your Adaboost classifier from point 4 on the folder *another_faces*. Show the detected faces by both classifiers and compare their score.\n",
    "\n",
    "<img src=\"notebook_images/cascade.png\" width=300, height=300>\n"
   ]
  },
  {
   "cell_type": "code",
   "execution_count": 2,
   "metadata": {},
   "outputs": [
    {
     "data": {
      "image/png": "[encoded data removed]",
      "text/plain": [
       "<Figure size 432x288 with 1 Axes>"
      ]
     },
     "metadata": {
      "needs_background": "light"
     },
     "output_type": "display_data"
    }
   ],
   "source": [
    "from skimage.feature import Cascade\n",
    "from skimage import data\n",
    "from matplotlib import patches\n",
    "\n",
    "# Load face images\n",
    "path = \"./another_faces/\"                       \n",
    "original_another_faces = [skimage.io.imread(path + f) for f in os.listdir(path)]\n",
    "\n",
    "# Load the Cascade trained file from the module root.\n",
    "trained_file = data.lbp_frontal_face_cascade_filename()\n",
    "\n",
    "# Initialize the dectector cascade\n",
    "query = original_another_faces[3]\n",
    "detector = Cascade(trained_file)\n",
    "detected = detector.detect_multi_scale(img=query, scale_factor=1.2, step_ratio=1, min_size=(50, 50),\n",
    "                                       max_size=(500, 500))\n",
    "\n",
    "plt.imshow(query)\n",
    "img_desc = plt.gca()\n",
    "plt.set_cmap('gray')\n",
    "\n",
    "for patch in detected:\n",
    "\n",
    "    img_desc.add_patch(\n",
    "        patches.Rectangle(\n",
    "            (patch['c'], patch['r']),\n",
    "            patch['width'],\n",
    "            patch['height'],\n",
    "            fill=False,\n",
    "            color='r',\n",
    "            linewidth=2\n",
    "        )\n",
    "    )\n",
    "\n",
    "plt.show()"
   ]
  },
  {
   "cell_type": "code",
   "execution_count": 10,
   "metadata": {},
   "outputs": [
    {
     "name": "stdout",
     "output_type": "stream",
     "text": [
      "1.0\n",
      "[0 0 0 0 1 1 0 0 0 0]\n",
      "[0 0 0 0 1 1 0 0 0 0]\n"
     ]
    }
   ],
   "source": [
    "\"\"\"\n",
    "Lets now try it using the adaboost classifier\n",
    "\"\"\" \n",
    "# Load face images\n",
    "path = \"./another_faces/\"   \n",
    "#we make the images grayscale becuase they have a third channel, which we do not want\n",
    "original_another_faces = [rgb2gray(skimage.io.imread(path + f)) for f in os.listdir(path)]\n",
    "query = original_another_faces[3] #query image is the same\n",
    "\n",
    "features_other = []\n",
    "#we get the features for the images\n",
    "for i in original_another_faces:\n",
    "    im = resize(i, (19 , 19)) #we re size the image so that its the same as non_faces\n",
    "    features_other.append(extract_feature_image(im, feature_types))\n",
    "\n",
    "#we get the new values for X and Y using the new images, non_images we already got them.\n",
    "X_other = np.array(features_other + non_features_faces)\n",
    "y_other = np.array([1]*len(features_other) + [0]*len(non_features_faces)) # Labels face = 1, non face = 0\n",
    "\n",
    "#using the tutorial on sklearn we can get the new train and test values\n",
    "X_train_other, X_test_other, y_train_other, y_test_other = train_test_split(X_other, y_other)\n",
    "\n",
    "clf_other = AdaBoostClassifier(n_estimators=50, learning_rate=1.0)\n",
    "clf_other.fit(X_train_other, y_train_other)\n",
    "clf_other.predict(X_test_other)\n",
    "clf_other.score(X_test_other, y_test_other)\n",
    "print(clf_other.score(X_test_other, y_test_other))\n",
    "print(clf_other.predict(X_test_other))\n",
    "print(y_test_other)"
   ]
  },
  {
   "cell_type": "code",
   "execution_count": 12,
   "metadata": {},
   "outputs": [
    {
     "name": "stdout",
     "output_type": "stream",
     "text": [
      "[1]\n"
     ]
    }
   ],
   "source": [
    "ima = resize(query, (query.shape[0] - 557 , query.shape[1] - 749)) #if we try it with a specific image\n",
    "print(clf_other.predict([extract_feature_image(ima, feature_types)])) #we can see we get that it is a face"
   ]
  },
  {
   "cell_type": "code",
   "execution_count": null,
   "metadata": {},
   "outputs": [],
   "source": []
  }
 ],
 "metadata": {
  "kernelspec": {
   "display_name": "Python 3",
   "language": "python",
   "name": "python3"
  },
  "language_info": {
   "codemirror_mode": {
    "name": "ipython",
    "version": 3
   },
   "file_extension": ".py",
   "mimetype": "text/x-python",
   "name": "python",
   "nbconvert_exporter": "python",
   "pygments_lexer": "ipython3",
   "version": "3.8.8"
  }
 },
 "nbformat": 4,
 "nbformat_minor": 4
}
